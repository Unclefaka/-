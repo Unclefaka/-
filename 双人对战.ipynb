{
 "cells": [
  {
   "cell_type": "code",
   "execution_count": null,
   "metadata": {},
   "outputs": [],
   "source": [
    "#===========双人对战========================\n",
    "import time\n",
    "import numpy\n",
    "import random as rd\n",
    "class hero(object):\n",
    "    def __init__(self,name,hp):\n",
    "        self.name=name\n",
    "        self.hp=100      
    "        pass\n",
    "    def __str__(self):#返回玩家状态10\n",
    "        return (\"|{}:hp【{}】|\".format(self.name,self.hp))\n",
    "    def tong(self,enemy):\n",
    "        enemy.hp-=10\n",
    "        info=\"{}捅了{}一刀，{}受到10点伤害\".format(self.name,enemy.name,enemy.name)\n",
    "        print(info)\n",
    "        pass\n",
    "    def kanren(self,enemy):\n",
    "        enemy.hp-=15\n",
    "        info=\"{}砍了{}一刀，{}受到10点伤害\".format(self.name,enemy.name,enemy.name)\n",
    "        print(info)\n",
    "        pass\n",
    "    def keyao(self):\n",
    "        self.hp+=10\n",
    "        info=\"{}嗑药，回复10点生命\".format(self.name)\n",
    "        print(info)\n",
    "        pass\n",
    "    def action(self,enemy,yaction):\n",
    "        if yaction<30 or yaction<0:\n",
    "             self.tong(enemy)\n",
    "        elif yaction>=30 or yaction<60:\n",
    "            self.kanren(enemy)\n",
    "        elif yaction>=60 or yaction<90:\n",
    "            self.keyao() \n",
    "    \n",
    "    \n",
    "        \n",
    "player1=hero(\"特朗普\",100)\n",
    "player2=hero(\"拜登\",100)\n",
    "print(\"战斗开始\")\n",
    "while True:\n",
    "    if (player1.hp<=0): \n",
    "        print(\"{}死亡，{}赢得了比赛\".format(player1.name,player2.name) ) \n",
    "        break\n",
    "    if (player2.hp<=0):\n",
    "        print(\"{}死亡，{}赢得了比赛\".format(player2.name,player1.name) )   \n",
    "        break\n",
    "    print(\"{}的回合\".format(player2.name))\n",
    "    time.sleep(1)\n",
    "    eaction=rd.randint(0,90)\n",
    "    player2.action(player1,eaction)\n",
    "    print(player1)\n",
    "    print(player2)\n",
    "    print(\"===================================================\")\n",
    "    \n",
    "    print(\"{}的回合，你要怎么做\".format(player1.name))\n",
    "    time.sleep(1)\n",
    "    yaction=int(input(\"捅他【10】|砍他【50】|嗑药【80】----【输入对应数字进行动作】\"))\n",
    "    player1.action(player2,yaction)\n",
    "    print(player1)\n",
    "    print(player2)\n",
    "    print(\"===================================================\")"
   ]
  }
 ],
 "metadata": {
  "kernelspec": {
   "display_name": "Python [conda env:deeplearning3] *",
   "language": "python",
   "name": "conda-env-deeplearning3-py"
  },
  "language_info": {
   "codemirror_mode": {
    "name": "ipython",
    "version": 3
   },
   "file_extension": ".py",
   "mimetype": "text/x-python",
   "name": "python",
   "nbconvert_exporter": "python",
   "pygments_lexer": "ipython3",
   "version": "3.7.3"
  }
 },
 "nbformat": 4,
 "nbformat_minor": 2
}
